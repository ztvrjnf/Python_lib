{
 "cells": [
  {
   "cell_type": "markdown",
   "metadata": {},
   "source": [
    "# Бейзлайн для курса \"Библиотеки Python для Data Science: Numpy, Matplotlib, Scikit-learn\""
   ]
  },
  {
   "cell_type": "code",
   "execution_count": 1,
   "metadata": {
    "_cell_guid": "b1076dfc-b9ad-4769-8c92-a6c4dae69d19",
    "_uuid": "8f2839f25d086af736a60e9eeb907d3b93b6e0e5"
   },
   "outputs": [
    {
     "name": "stdout",
     "output_type": "stream",
     "text": [
      "/kaggle/input/realestatepriceprediction/sample_submission.csv\n",
      "/kaggle/input/realestatepriceprediction/train.csv\n",
      "/kaggle/input/realestatepriceprediction/test.csv\n"
     ]
    }
   ],
   "source": [
    "import numpy as np\n",
    "import pandas as pd\n",
    "import gc\n",
    "import seaborn as sns\n",
    "import datetime\n",
    "\n",
    "from sklearn import ensemble\n",
    "from sklearn.ensemble import VotingRegressor, RandomForestRegressor\n",
    "from sklearn.metrics import r2_score\n",
    "from sklearn.model_selection import train_test_split, KFold, GridSearchCV, cross_val_score\n",
    "\n",
    "from matplotlib import style\n",
    "import matplotlib.pyplot as plt\n",
    "from lightgbm import LGBMRegressor\n",
    "\n",
    "style.use('fivethirtyeight')\n",
    "%matplotlib inline\n",
    "\n",
    "import os\n",
    "for dirname, _, filenames in os.walk('/kaggle/input'):\n",
    "    for filename in filenames:\n",
    "        print(os.path.join(dirname, filename))\n",
    "        \n",
    "TEST_DATASET_PATH = '/kaggle/input/realestatepriceprediction/test.csv'\n",
    "TRAIN_DATASET_PATH = '/kaggle/input/realestatepriceprediction/train.csv'\n",
    "\n",
    "test_data = pd.read_csv(TEST_DATASET_PATH)\n",
    "train_data = pd.read_csv(TRAIN_DATASET_PATH)"
   ]
  },
  {
   "cell_type": "markdown",
   "metadata": {},
   "source": [
    "# 1. Чтение данных"
   ]
  },
  {
   "cell_type": "code",
   "execution_count": 2,
   "metadata": {
    "_cell_guid": "79c7e3d0-c299-4dcb-8224-4455121ee9b0",
    "_uuid": "d629ff2d2480ee46fbb7e2d37f6b5fab8052498a"
   },
   "outputs": [
    {
     "name": "stdout",
     "output_type": "stream",
     "text": [
      "Строк в трейне: 10000\n",
      "Строк в тесте 5000\n"
     ]
    },
    {
     "data": {
      "text/plain": [
       "4"
      ]
     },
     "execution_count": 2,
     "metadata": {},
     "output_type": "execute_result"
    }
   ],
   "source": [
    "df = pd.read_csv('/kaggle/input/realestatepriceprediction/train.csv')\n",
    "\n",
    "X = df.drop('Price', axis=1)\n",
    "y = df[['Price']]\n",
    "\n",
    "X_final = pd.read_csv('/kaggle/input/realestatepriceprediction/test.csv')\n",
    "\n",
    "preds_final = pd.DataFrame()\n",
    "preds_final['Id'] = X_final['Id'].copy()\n",
    "\n",
    "X.set_index('Id', inplace=True)\n",
    "X_final.set_index('Id', inplace=True)\n",
    "\n",
    "print('Строк в трейне:' ,  X.shape[0])\n",
    "print('Строк в тесте', X_final.shape[0])\n",
    "\n",
    "del df\n",
    "gc.collect()  "
   ]
  },
  {
   "cell_type": "code",
   "execution_count": 3,
   "metadata": {},
   "outputs": [
    {
     "data": {
      "text/html": [
       "<div>\n",
       "<style scoped>\n",
       "    .dataframe tbody tr th:only-of-type {\n",
       "        vertical-align: middle;\n",
       "    }\n",
       "\n",
       "    .dataframe tbody tr th {\n",
       "        vertical-align: top;\n",
       "    }\n",
       "\n",
       "    .dataframe thead th {\n",
       "        text-align: right;\n",
       "    }\n",
       "</style>\n",
       "<table border=\"1\" class=\"dataframe\">\n",
       "  <thead>\n",
       "    <tr style=\"text-align: right;\">\n",
       "      <th></th>\n",
       "      <th>DistrictId</th>\n",
       "      <th>Rooms</th>\n",
       "      <th>Square</th>\n",
       "      <th>LifeSquare</th>\n",
       "      <th>KitchenSquare</th>\n",
       "      <th>Floor</th>\n",
       "      <th>HouseFloor</th>\n",
       "      <th>HouseYear</th>\n",
       "      <th>Ecology_1</th>\n",
       "      <th>Ecology_2</th>\n",
       "      <th>Ecology_3</th>\n",
       "      <th>Social_1</th>\n",
       "      <th>Social_2</th>\n",
       "      <th>Social_3</th>\n",
       "      <th>Healthcare_1</th>\n",
       "      <th>Helthcare_2</th>\n",
       "      <th>Shops_1</th>\n",
       "      <th>Shops_2</th>\n",
       "    </tr>\n",
       "    <tr>\n",
       "      <th>Id</th>\n",
       "      <th></th>\n",
       "      <th></th>\n",
       "      <th></th>\n",
       "      <th></th>\n",
       "      <th></th>\n",
       "      <th></th>\n",
       "      <th></th>\n",
       "      <th></th>\n",
       "      <th></th>\n",
       "      <th></th>\n",
       "      <th></th>\n",
       "      <th></th>\n",
       "      <th></th>\n",
       "      <th></th>\n",
       "      <th></th>\n",
       "      <th></th>\n",
       "      <th></th>\n",
       "      <th></th>\n",
       "    </tr>\n",
       "  </thead>\n",
       "  <tbody>\n",
       "    <tr>\n",
       "      <th>14038</th>\n",
       "      <td>35</td>\n",
       "      <td>2.0</td>\n",
       "      <td>47.981561</td>\n",
       "      <td>29.442751</td>\n",
       "      <td>6.0</td>\n",
       "      <td>7</td>\n",
       "      <td>9.0</td>\n",
       "      <td>1969</td>\n",
       "      <td>0.089040</td>\n",
       "      <td>B</td>\n",
       "      <td>B</td>\n",
       "      <td>33</td>\n",
       "      <td>7976</td>\n",
       "      <td>5</td>\n",
       "      <td>NaN</td>\n",
       "      <td>0</td>\n",
       "      <td>11</td>\n",
       "      <td>B</td>\n",
       "    </tr>\n",
       "    <tr>\n",
       "      <th>15053</th>\n",
       "      <td>41</td>\n",
       "      <td>3.0</td>\n",
       "      <td>65.683640</td>\n",
       "      <td>40.049543</td>\n",
       "      <td>8.0</td>\n",
       "      <td>7</td>\n",
       "      <td>9.0</td>\n",
       "      <td>1978</td>\n",
       "      <td>0.000070</td>\n",
       "      <td>B</td>\n",
       "      <td>B</td>\n",
       "      <td>46</td>\n",
       "      <td>10309</td>\n",
       "      <td>1</td>\n",
       "      <td>240.0</td>\n",
       "      <td>1</td>\n",
       "      <td>16</td>\n",
       "      <td>B</td>\n",
       "    </tr>\n",
       "    <tr>\n",
       "      <th>4765</th>\n",
       "      <td>53</td>\n",
       "      <td>2.0</td>\n",
       "      <td>44.947953</td>\n",
       "      <td>29.197612</td>\n",
       "      <td>0.0</td>\n",
       "      <td>8</td>\n",
       "      <td>12.0</td>\n",
       "      <td>1968</td>\n",
       "      <td>0.049637</td>\n",
       "      <td>B</td>\n",
       "      <td>B</td>\n",
       "      <td>34</td>\n",
       "      <td>7759</td>\n",
       "      <td>0</td>\n",
       "      <td>229.0</td>\n",
       "      <td>1</td>\n",
       "      <td>3</td>\n",
       "      <td>B</td>\n",
       "    </tr>\n",
       "    <tr>\n",
       "      <th>5809</th>\n",
       "      <td>58</td>\n",
       "      <td>2.0</td>\n",
       "      <td>53.352981</td>\n",
       "      <td>52.731512</td>\n",
       "      <td>9.0</td>\n",
       "      <td>8</td>\n",
       "      <td>17.0</td>\n",
       "      <td>1977</td>\n",
       "      <td>0.437885</td>\n",
       "      <td>B</td>\n",
       "      <td>B</td>\n",
       "      <td>23</td>\n",
       "      <td>5735</td>\n",
       "      <td>3</td>\n",
       "      <td>1084.0</td>\n",
       "      <td>0</td>\n",
       "      <td>5</td>\n",
       "      <td>B</td>\n",
       "    </tr>\n",
       "    <tr>\n",
       "      <th>10783</th>\n",
       "      <td>99</td>\n",
       "      <td>1.0</td>\n",
       "      <td>39.649192</td>\n",
       "      <td>23.776169</td>\n",
       "      <td>7.0</td>\n",
       "      <td>11</td>\n",
       "      <td>12.0</td>\n",
       "      <td>1976</td>\n",
       "      <td>0.012339</td>\n",
       "      <td>B</td>\n",
       "      <td>B</td>\n",
       "      <td>35</td>\n",
       "      <td>5776</td>\n",
       "      <td>1</td>\n",
       "      <td>2078.0</td>\n",
       "      <td>2</td>\n",
       "      <td>4</td>\n",
       "      <td>B</td>\n",
       "    </tr>\n",
       "  </tbody>\n",
       "</table>\n",
       "</div>"
      ],
      "text/plain": [
       "       DistrictId  Rooms     Square  LifeSquare  KitchenSquare  Floor  \\\n",
       "Id                                                                      \n",
       "14038          35    2.0  47.981561   29.442751            6.0      7   \n",
       "15053          41    3.0  65.683640   40.049543            8.0      7   \n",
       "4765           53    2.0  44.947953   29.197612            0.0      8   \n",
       "5809           58    2.0  53.352981   52.731512            9.0      8   \n",
       "10783          99    1.0  39.649192   23.776169            7.0     11   \n",
       "\n",
       "       HouseFloor  HouseYear  Ecology_1 Ecology_2 Ecology_3  Social_1  \\\n",
       "Id                                                                      \n",
       "14038         9.0       1969   0.089040         B         B        33   \n",
       "15053         9.0       1978   0.000070         B         B        46   \n",
       "4765         12.0       1968   0.049637         B         B        34   \n",
       "5809         17.0       1977   0.437885         B         B        23   \n",
       "10783        12.0       1976   0.012339         B         B        35   \n",
       "\n",
       "       Social_2  Social_3  Healthcare_1  Helthcare_2  Shops_1 Shops_2  \n",
       "Id                                                                     \n",
       "14038      7976         5           NaN            0       11       B  \n",
       "15053     10309         1         240.0            1       16       B  \n",
       "4765       7759         0         229.0            1        3       B  \n",
       "5809       5735         3        1084.0            0        5       B  \n",
       "10783      5776         1        2078.0            2        4       B  "
      ]
     },
     "execution_count": 3,
     "metadata": {},
     "output_type": "execute_result"
    }
   ],
   "source": [
    "X.head()"
   ]
  },
  {
   "cell_type": "code",
   "execution_count": 4,
   "metadata": {},
   "outputs": [],
   "source": [
    "X['DistrictId'] = X['DistrictId'].astype(str)\n",
    "X_final['DistrictId'] = X_final['DistrictId'].astype(str)"
   ]
  },
  {
   "cell_type": "markdown",
   "metadata": {},
   "source": [
    "## 1. Минимальный EDA"
   ]
  },
  {
   "cell_type": "markdown",
   "metadata": {},
   "source": [
    "### 1.1 Выбросы"
   ]
  },
  {
   "cell_type": "code",
   "execution_count": 5,
   "metadata": {},
   "outputs": [
    {
     "data": {
      "text/plain": [
       "DistrictId        object\n",
       "Rooms            float64\n",
       "Square           float64\n",
       "LifeSquare       float64\n",
       "KitchenSquare    float64\n",
       "Floor              int64\n",
       "HouseFloor       float64\n",
       "HouseYear          int64\n",
       "Ecology_1        float64\n",
       "Ecology_2         object\n",
       "Ecology_3         object\n",
       "Social_1           int64\n",
       "Social_2           int64\n",
       "Social_3           int64\n",
       "Healthcare_1     float64\n",
       "Helthcare_2        int64\n",
       "Shops_1            int64\n",
       "Shops_2           object\n",
       "dtype: object"
      ]
     },
     "execution_count": 5,
     "metadata": {},
     "output_type": "execute_result"
    }
   ],
   "source": [
    "X.dtypes"
   ]
  },
  {
   "cell_type": "markdown",
   "metadata": {},
   "source": [
    "**Rooms**"
   ]
  },
  {
   "cell_type": "code",
   "execution_count": 6,
   "metadata": {},
   "outputs": [
    {
     "data": {
      "text/plain": [
       "2.0     3880\n",
       "1.0     3705\n",
       "3.0     2235\n",
       "4.0      150\n",
       "5.0       18\n",
       "0.0        8\n",
       "10.0       2\n",
       "19.0       1\n",
       "6.0        1\n",
       "Name: Rooms, dtype: int64"
      ]
     },
     "execution_count": 6,
     "metadata": {},
     "output_type": "execute_result"
    }
   ],
   "source": [
    "X['Rooms'].value_counts()"
   ]
  },
  {
   "cell_type": "code",
   "execution_count": 7,
   "metadata": {},
   "outputs": [
    {
     "data": {
      "text/plain": [
       "54.0         1\n",
       "72.0         1\n",
       "96.0         1\n",
       "66.0         1\n",
       "48.0         1\n",
       "40.0         1\n",
       "2014.0       1\n",
       "35.0         1\n",
       "60.0         1\n",
       "78.0         1\n",
       "27.0         1\n",
       "84.0         1\n",
       "42.0         1\n",
       "62.0         1\n",
       "39.0         1\n",
       "1970.0       1\n",
       "36.0         1\n",
       "75.0         1\n",
       "26.0         1\n",
       "21.0         1\n",
       "29.0         1\n",
       "23.0         1\n",
       "73.0         1\n",
       "123.0        1\n",
       "31.0         1\n",
       "63.0         1\n",
       "53.0         1\n",
       "30.0         2\n",
       "58.0         2\n",
       "32.0         2\n",
       "51.0         2\n",
       "43.0         2\n",
       "25.0         2\n",
       "112.0        2\n",
       "41.0         2\n",
       "37.0         2\n",
       "22.0         3\n",
       "2.0          4\n",
       "18.0         6\n",
       "19.0        11\n",
       "17.0        12\n",
       "20.0        14\n",
       "16.0        16\n",
       "3.0         22\n",
       "15.0        31\n",
       "4.0         39\n",
       "14.0        51\n",
       "13.0        67\n",
       "11.0       233\n",
       "12.0       249\n",
       "7.0        609\n",
       "0.0        697\n",
       "9.0        843\n",
       "6.0       1038\n",
       "10.0      1075\n",
       "5.0       1169\n",
       "8.0       1306\n",
       "1.0       2460\n",
       "Name: KitchenSquare, dtype: int64"
      ]
     },
     "execution_count": 7,
     "metadata": {},
     "output_type": "execute_result"
    }
   ],
   "source": [
    "X['KitchenSquare'].value_counts().sort_values()"
   ]
  },
  {
   "cell_type": "markdown",
   "metadata": {},
   "source": [
    "**Floor, HouseFloor**"
   ]
  },
  {
   "cell_type": "code",
   "execution_count": 8,
   "metadata": {},
   "outputs": [
    {
     "data": {
      "text/plain": [
       "array([  0.,   1.,   2.,   3.,   4.,   5.,   6.,   7.,   8.,   9.,  10.,\n",
       "        11.,  12.,  13.,  14.,  15.,  16.,  17.,  18.,  19.,  20.,  21.,\n",
       "        22.,  23.,  24.,  25.,  26.,  27.,  28.,  29.,  30.,  31.,  32.,\n",
       "        36.,  37.,  38.,  39.,  40.,  44.,  45.,  47.,  48.,  99., 117.])"
      ]
     },
     "execution_count": 8,
     "metadata": {},
     "output_type": "execute_result"
    }
   ],
   "source": [
    "X['HouseFloor'].sort_values().unique()"
   ]
  },
  {
   "cell_type": "code",
   "execution_count": 9,
   "metadata": {},
   "outputs": [
    {
     "data": {
      "text/plain": [
       "array([ 1,  2,  3,  4,  5,  6,  7,  8,  9, 10, 11, 12, 13, 14, 15, 16, 17,\n",
       "       18, 19, 20, 21, 22, 23, 24, 25, 26, 27, 28, 31, 32, 33, 37, 42])"
      ]
     },
     "execution_count": 9,
     "metadata": {},
     "output_type": "execute_result"
    }
   ],
   "source": [
    "X['Floor'].sort_values().unique()"
   ]
  },
  {
   "cell_type": "code",
   "execution_count": 10,
   "metadata": {},
   "outputs": [
    {
     "data": {
      "text/plain": [
       "1825"
      ]
     },
     "execution_count": 10,
     "metadata": {},
     "output_type": "execute_result"
    }
   ],
   "source": [
    "(X['Floor'] > X['HouseFloor']).sum()"
   ]
  },
  {
   "cell_type": "markdown",
   "metadata": {},
   "source": [
    "**HouseYear**"
   ]
  },
  {
   "cell_type": "code",
   "execution_count": 11,
   "metadata": {},
   "outputs": [
    {
     "data": {
      "text/plain": [
       "array([    1910,     1912,     1914,     1916,     1917,     1918,\n",
       "           1919,     1928,     1929,     1930,     1931,     1932,\n",
       "           1933,     1934,     1935,     1936,     1937,     1938,\n",
       "           1939,     1940,     1941,     1942,     1947,     1948,\n",
       "           1950,     1951,     1952,     1953,     1954,     1955,\n",
       "           1956,     1957,     1958,     1959,     1960,     1961,\n",
       "           1962,     1963,     1964,     1965,     1966,     1967,\n",
       "           1968,     1969,     1970,     1971,     1972,     1973,\n",
       "           1974,     1975,     1976,     1977,     1978,     1979,\n",
       "           1980,     1981,     1982,     1983,     1984,     1985,\n",
       "           1986,     1987,     1988,     1989,     1990,     1991,\n",
       "           1992,     1993,     1994,     1995,     1996,     1997,\n",
       "           1998,     1999,     2000,     2001,     2002,     2003,\n",
       "           2004,     2005,     2006,     2007,     2008,     2009,\n",
       "           2010,     2011,     2012,     2013,     2014,     2015,\n",
       "           2016,     2017,     2018,     2019,     2020,     4968,\n",
       "       20052011])"
      ]
     },
     "execution_count": 11,
     "metadata": {},
     "output_type": "execute_result"
    }
   ],
   "source": [
    "X['HouseYear'].sort_values().unique()"
   ]
  },
  {
   "cell_type": "code",
   "execution_count": 12,
   "metadata": {},
   "outputs": [
    {
     "data": {
      "text/html": [
       "<div>\n",
       "<style scoped>\n",
       "    .dataframe tbody tr th:only-of-type {\n",
       "        vertical-align: middle;\n",
       "    }\n",
       "\n",
       "    .dataframe tbody tr th {\n",
       "        vertical-align: top;\n",
       "    }\n",
       "\n",
       "    .dataframe thead th {\n",
       "        text-align: right;\n",
       "    }\n",
       "</style>\n",
       "<table border=\"1\" class=\"dataframe\">\n",
       "  <thead>\n",
       "    <tr style=\"text-align: right;\">\n",
       "      <th></th>\n",
       "      <th>DistrictId</th>\n",
       "      <th>Rooms</th>\n",
       "      <th>Square</th>\n",
       "      <th>LifeSquare</th>\n",
       "      <th>KitchenSquare</th>\n",
       "      <th>Floor</th>\n",
       "      <th>HouseFloor</th>\n",
       "      <th>HouseYear</th>\n",
       "      <th>Ecology_1</th>\n",
       "      <th>Ecology_2</th>\n",
       "      <th>Ecology_3</th>\n",
       "      <th>Social_1</th>\n",
       "      <th>Social_2</th>\n",
       "      <th>Social_3</th>\n",
       "      <th>Healthcare_1</th>\n",
       "      <th>Helthcare_2</th>\n",
       "      <th>Shops_1</th>\n",
       "      <th>Shops_2</th>\n",
       "    </tr>\n",
       "    <tr>\n",
       "      <th>Id</th>\n",
       "      <th></th>\n",
       "      <th></th>\n",
       "      <th></th>\n",
       "      <th></th>\n",
       "      <th></th>\n",
       "      <th></th>\n",
       "      <th></th>\n",
       "      <th></th>\n",
       "      <th></th>\n",
       "      <th></th>\n",
       "      <th></th>\n",
       "      <th></th>\n",
       "      <th></th>\n",
       "      <th></th>\n",
       "      <th></th>\n",
       "      <th></th>\n",
       "      <th></th>\n",
       "      <th></th>\n",
       "    </tr>\n",
       "  </thead>\n",
       "  <tbody>\n",
       "    <tr>\n",
       "      <th>10814</th>\n",
       "      <td>109</td>\n",
       "      <td>1.0</td>\n",
       "      <td>37.265070</td>\n",
       "      <td>20.239714</td>\n",
       "      <td>9.0</td>\n",
       "      <td>9</td>\n",
       "      <td>12.0</td>\n",
       "      <td>20052011</td>\n",
       "      <td>0.136330</td>\n",
       "      <td>B</td>\n",
       "      <td>B</td>\n",
       "      <td>30</td>\n",
       "      <td>6141</td>\n",
       "      <td>10</td>\n",
       "      <td>262.0</td>\n",
       "      <td>3</td>\n",
       "      <td>6</td>\n",
       "      <td>B</td>\n",
       "    </tr>\n",
       "    <tr>\n",
       "      <th>11607</th>\n",
       "      <td>147</td>\n",
       "      <td>2.0</td>\n",
       "      <td>44.791836</td>\n",
       "      <td>28.360393</td>\n",
       "      <td>5.0</td>\n",
       "      <td>4</td>\n",
       "      <td>9.0</td>\n",
       "      <td>4968</td>\n",
       "      <td>0.319809</td>\n",
       "      <td>B</td>\n",
       "      <td>B</td>\n",
       "      <td>25</td>\n",
       "      <td>4756</td>\n",
       "      <td>16</td>\n",
       "      <td>2857.0</td>\n",
       "      <td>5</td>\n",
       "      <td>8</td>\n",
       "      <td>B</td>\n",
       "    </tr>\n",
       "  </tbody>\n",
       "</table>\n",
       "</div>"
      ],
      "text/plain": [
       "      DistrictId  Rooms     Square  LifeSquare  KitchenSquare  Floor  \\\n",
       "Id                                                                     \n",
       "10814        109    1.0  37.265070   20.239714            9.0      9   \n",
       "11607        147    2.0  44.791836   28.360393            5.0      4   \n",
       "\n",
       "       HouseFloor  HouseYear  Ecology_1 Ecology_2 Ecology_3  Social_1  \\\n",
       "Id                                                                      \n",
       "10814        12.0   20052011   0.136330         B         B        30   \n",
       "11607         9.0       4968   0.319809         B         B        25   \n",
       "\n",
       "       Social_2  Social_3  Healthcare_1  Helthcare_2  Shops_1 Shops_2  \n",
       "Id                                                                     \n",
       "10814      6141        10         262.0            3        6       B  \n",
       "11607      4756        16        2857.0            5        8       B  "
      ]
     },
     "execution_count": 12,
     "metadata": {},
     "output_type": "execute_result"
    }
   ],
   "source": [
    "X[X['HouseYear'] > 2020].head()"
   ]
  },
  {
   "cell_type": "markdown",
   "metadata": {},
   "source": [
    "### Заполнение NaN"
   ]
  },
  {
   "cell_type": "code",
   "execution_count": 13,
   "metadata": {},
   "outputs": [
    {
     "data": {
      "image/png": "[encoded data removed]",
      "text/plain": [
       "<Figure size 1152x288 with 1 Axes>"
      ]
     },
     "metadata": {
      "needs_background": "light"
     },
     "output_type": "display_data"
    }
   ],
   "source": [
    "import seaborn as sns\n",
    "\n",
    "nan_df = (X.isna().sum() / X.shape[0]).reset_index()\n",
    "nan_df.columns=['feature', 'nan_percent']\n",
    "\n",
    "plt.figure(figsize=(16,4))\n",
    "sns.barplot(nan_df['feature'], nan_df['nan_percent'])\n",
    "plt.title('Percent Missing')\n",
    "plt.ylabel('Missing', fontsize=12)\n",
    "plt.xlabel('Features', fontsize=12)\n",
    "plt.xticks(rotation=90)\n",
    "plt.show()"
   ]
  },
  {
   "cell_type": "markdown",
   "metadata": {},
   "source": [
    "### 1.2 Feature engineering"
   ]
  },
  {
   "cell_type": "markdown",
   "metadata": {},
   "source": [
    "**DistrictId**"
   ]
  },
  {
   "cell_type": "code",
   "execution_count": 14,
   "metadata": {},
   "outputs": [
    {
     "data": {
      "text/plain": [
       "205"
      ]
     },
     "execution_count": 14,
     "metadata": {},
     "output_type": "execute_result"
    }
   ],
   "source": [
    "X.DistrictId.nunique()"
   ]
  },
  {
   "cell_type": "code",
   "execution_count": 15,
   "metadata": {},
   "outputs": [
    {
     "data": {
      "text/plain": [
       "{'27': 851,\n",
       " '1': 652,\n",
       " '23': 565,\n",
       " '6': 511,\n",
       " '9': 294,\n",
       " '62': 247,\n",
       " '30': 228,\n",
       " '58': 179,\n",
       " '53': 174,\n",
       " '21': 165,\n",
       " '52': 143,\n",
       " '8': 142,\n",
       " '11': 129,\n",
       " '46': 119,\n",
       " '61': 118,\n",
       " '45': 116,\n",
       " '74': 114,\n",
       " '34': 111,\n",
       " '57': 107,\n",
       " '44': 104,\n",
       " '13': 97,\n",
       " '99': 97,\n",
       " '101': 97,\n",
       " '47': 97,\n",
       " '7': 92,\n",
       " '48': 90,\n",
       " '29': 89,\n",
       " '94': 89,\n",
       " '41': 87,\n",
       " '3': 82,\n",
       " '84': 80,\n",
       " '28': 79,\n",
       " '2': 78,\n",
       " '22': 78,\n",
       " '25': 77,\n",
       " '85': 76,\n",
       " '93': 73,\n",
       " '37': 72,\n",
       " '90': 72,\n",
       " '96': 71,\n",
       " '59': 67,\n",
       " '75': 66,\n",
       " '26': 65,\n",
       " '88': 64,\n",
       " '12': 64,\n",
       " '128': 64,\n",
       " '66': 62,\n",
       " '67': 61,\n",
       " '17': 59,\n",
       " '55': 58,\n",
       " '39': 57,\n",
       " '10': 56,\n",
       " '105': 55,\n",
       " '31': 55,\n",
       " '18': 51,\n",
       " '119': 49,\n",
       " '111': 49,\n",
       " '0': 48,\n",
       " '78': 46,\n",
       " '91': 44,\n",
       " '129': 43,\n",
       " '63': 43,\n",
       " '124': 43,\n",
       " '42': 42,\n",
       " '79': 42,\n",
       " '113': 41,\n",
       " '109': 41,\n",
       " '77': 40,\n",
       " '54': 37,\n",
       " '38': 36,\n",
       " '15': 36,\n",
       " '24': 35,\n",
       " '5': 34,\n",
       " '56': 34,\n",
       " '32': 34,\n",
       " '103': 33,\n",
       " '123': 32,\n",
       " '19': 31,\n",
       " '33': 31,\n",
       " '80': 31,\n",
       " '83': 31,\n",
       " '138': 29,\n",
       " '69': 29,\n",
       " '130': 29,\n",
       " '64': 28,\n",
       " '86': 27,\n",
       " '87': 27,\n",
       " '70': 27,\n",
       " '108': 27,\n",
       " '120': 26,\n",
       " '121': 25,\n",
       " '100': 25,\n",
       " '122': 25,\n",
       " '20': 24,\n",
       " '89': 24,\n",
       " '107': 23,\n",
       " '35': 22,\n",
       " '169': 22,\n",
       " '98': 21,\n",
       " '144': 20,\n",
       " '167': 20,\n",
       " '145': 19,\n",
       " '134': 18,\n",
       " '81': 18,\n",
       " '146': 18,\n",
       " '36': 17,\n",
       " '14': 17,\n",
       " '73': 17,\n",
       " '170': 16,\n",
       " '49': 16,\n",
       " '95': 15,\n",
       " '157': 15,\n",
       " '147': 15,\n",
       " '125': 15,\n",
       " '151': 14,\n",
       " '163': 14,\n",
       " '139': 14,\n",
       " '140': 13,\n",
       " '110': 13,\n",
       " '118': 13,\n",
       " '92': 12,\n",
       " '114': 12,\n",
       " '132': 12,\n",
       " '126': 11,\n",
       " '148': 11,\n",
       " '116': 11,\n",
       " '143': 11,\n",
       " '142': 11,\n",
       " '40': 11,\n",
       " '168': 11,\n",
       " '4': 11,\n",
       " '104': 11,\n",
       " '161': 11,\n",
       " '160': 10,\n",
       " '156': 10,\n",
       " '155': 10,\n",
       " '127': 10,\n",
       " '72': 10,\n",
       " '154': 10,\n",
       " '187': 10,\n",
       " '106': 10,\n",
       " '150': 10,\n",
       " '177': 10,\n",
       " '97': 10,\n",
       " '60': 9,\n",
       " '135': 9,\n",
       " '43': 9,\n",
       " '137': 9,\n",
       " '162': 8,\n",
       " '102': 8,\n",
       " '164': 8,\n",
       " '183': 8,\n",
       " '68': 8,\n",
       " '71': 7,\n",
       " '178': 7,\n",
       " '190': 7,\n",
       " '152': 7,\n",
       " '173': 7,\n",
       " '200': 6,\n",
       " '165': 6,\n",
       " '176': 6,\n",
       " '16': 6,\n",
       " '149': 6,\n",
       " '76': 6,\n",
       " '131': 6,\n",
       " '159': 6,\n",
       " '171': 6,\n",
       " '153': 6,\n",
       " '191': 6,\n",
       " '115': 5,\n",
       " '65': 5,\n",
       " '141': 5,\n",
       " '192': 5,\n",
       " '188': 5,\n",
       " '166': 5,\n",
       " '194': 5,\n",
       " '133': 5,\n",
       " '51': 5,\n",
       " '184': 5,\n",
       " '189': 5,\n",
       " '82': 5,\n",
       " '112': 4,\n",
       " '136': 4,\n",
       " '50': 4,\n",
       " '182': 4,\n",
       " '179': 4,\n",
       " '180': 4,\n",
       " '185': 3,\n",
       " '175': 3,\n",
       " '201': 3,\n",
       " '193': 3,\n",
       " '181': 3,\n",
       " '172': 2,\n",
       " '202': 2,\n",
       " '186': 2,\n",
       " '158': 2,\n",
       " '195': 2,\n",
       " '208': 2,\n",
       " '196': 1,\n",
       " '209': 1,\n",
       " '207': 1,\n",
       " '205': 1,\n",
       " '174': 1,\n",
       " '199': 1,\n",
       " '117': 1}"
      ]
     },
     "execution_count": 15,
     "metadata": {},
     "output_type": "execute_result"
    }
   ],
   "source": [
    "dict(X['DistrictId'].value_counts())"
   ]
  },
  {
   "cell_type": "markdown",
   "metadata": {},
   "source": [
    "# 2. Очистка данных"
   ]
  },
  {
   "cell_type": "code",
   "execution_count": 16,
   "metadata": {},
   "outputs": [],
   "source": [
    "class FeatureImputer:\n",
    "    \"\"\"Заполнение пропусков и обработка выбросов\"\"\"\n",
    "    \n",
    "    def __init__(self):\n",
    "        self.medians=None\n",
    "        \n",
    "    def fit(self, X):\n",
    "        self.medians = X.median()\n",
    "    \n",
    "    def transform(self, X):\n",
    "        \n",
    "        # Rooms\n",
    "        X['Rooms_outlier'] = 0\n",
    "        X.loc[(X['Rooms'] == 0) | (X['Rooms'] >= 6), 'Rooms_outlier'] = 1\n",
    "        \n",
    "        X.loc[X['Rooms'] == 0, 'Rooms'] = 1\n",
    "        X.loc[X['Rooms'] >= 6, 'Rooms'] = self.medians['Rooms']\n",
    "        \n",
    "        # KitchenSquare\n",
    "        X.loc[X['KitchenSquare'] < 3, 'KitchenSquare'] = 3\n",
    "        X.loc[X['KitchenSquare'] > 1000, 'KitchenSquare'] = (X.loc[X['KitchenSquare'] > 1000, 'KitchenSquare'] / 10 + self.medians['KitchenSquare']) / 2\n",
    "        \n",
    "        # HouseFloor, Floor\n",
    "        X['HouseFloor_outlier'] = 0\n",
    "        X.loc[X['HouseFloor'] == 0, 'HouseFloor_outlier'] = 1\n",
    "        X.loc[X['Floor'] > X['HouseFloor'], 'HouseFloor_outlier'] = 1\n",
    "        \n",
    "        X.loc[X['HouseFloor'] == 0, 'HouseFloor'] = self.medians['HouseFloor']\n",
    "        X.loc[X['Floor'] > X['HouseFloor'], 'Floor'] = X.loc[X['Floor'] > X['HouseFloor'], 'HouseFloor']\n",
    "        \n",
    "        # HouseYear\n",
    "        current_year = now = datetime.datetime.now().year\n",
    "        \n",
    "        X['HouseYear_outlier'] = 0\n",
    "        X.loc[X['HouseYear'] > current_year, 'HouseYear_outlier'] = 1\n",
    "        \n",
    "        X.loc[X['HouseYear'] > current_year, 'HouseYear'] = current_year\n",
    "        \n",
    "        # Healthcare_1\n",
    "        if 'Healthcare_1' in X.columns:\n",
    "            X.drop('Healthcare_1', axis=1, inplace=True)\n",
    "            \n",
    "        # LifeSquare\n",
    "        X['LifeSquare_nan'] = X['LifeSquare'].isna() * 1\n",
    "        \n",
    "        condition = (X['LifeSquare'].isna()) &\\\n",
    "                      (~X['Square'].isna()) & \\\n",
    "                      (~X['KitchenSquare'].isna())\n",
    "        \n",
    "        X.loc[condition, 'LifeSquare'] = X.loc[condition, 'Square'] - X.loc[condition, 'KitchenSquare'] - 3\n",
    "        \n",
    "        X.loc[X['Square'] > 400, 'Square'] = X.loc[X['Square'] > 400, 'Square'] / 10\n",
    "    \n",
    "        return X\n",
    "        "
   ]
  },
  {
   "cell_type": "code",
   "execution_count": 17,
   "metadata": {},
   "outputs": [],
   "source": [
    "imputer = FeatureImputer()\n",
    "\n",
    "imputer.fit(X) # расчет медиан\n",
    "\n",
    "X = imputer.transform(X)\n",
    "X_final = imputer.transform(X_final)"
   ]
  },
  {
   "cell_type": "markdown",
   "metadata": {},
   "source": [
    "# 3. Feature engineering"
   ]
  },
  {
   "cell_type": "code",
   "execution_count": 18,
   "metadata": {},
   "outputs": [],
   "source": [
    "class FeatureGenetator():\n",
    "    \"\"\"Генерация новых фич\"\"\"\n",
    "    \n",
    "    def __init__(self):\n",
    "        self.DistrictId_counts = None\n",
    "        self.binary_to_numbers = None\n",
    "        self.med_price_by_district = None\n",
    "        self.med_price_by_floor_year = None\n",
    "        self.SquareMeterPrice_by_DistrictId = None\n",
    "        self.Healthcare_1_by_DistrictId = None\n",
    "        self.Square_min = 10\n",
    "        self.Square_max = 400\n",
    "    def fit(self, X, y=None):\n",
    "        \n",
    "        X = X.copy()\n",
    "        \n",
    "        # DistrictID\n",
    "        district = X['DistrictId'].value_counts()\n",
    "        district = district[district > 50]  ## Если вы этого не сделаете, то на Leaderboard-е улетите в самый низ (>100 места, R2 ~ 0.65),\n",
    "                                            ## Хотя на локальной валидации скор вырастет\n",
    "        \n",
    "        self.DistrictId_counts = dict(district)\n",
    "        \n",
    "        # Binary features\n",
    "        self.binary_to_numbers = {'A': 0, 'B': 1}\n",
    "        \n",
    "        # Target encoding\n",
    "        ## District\n",
    "        df = X.copy()\n",
    "        \n",
    "        if y is not None:\n",
    "            df['Price'] = y.values\n",
    "            \n",
    "            df['DistrictId_popular'] = df['DistrictId'].copy()\n",
    "            df.loc[~df['DistrictId_popular'].isin(district.keys().tolist())] = np.nan\n",
    "            \n",
    "            self.med_price_by_district = df.groupby(['DistrictId_popular', 'Rooms'], as_index=False).agg({'Price':'median'}).\\\n",
    "                                            rename(columns={'Price':'MedPriceByDistrict',\n",
    "                                                           'DistrictId_popular': 'DistrictId'})\n",
    "            \n",
    "        if y is not None:\n",
    "            df['Price'] = y.values\n",
    "            df = self.floor_to_cat(df)\n",
    "            df = self.year_to_cat(df)\n",
    "            self.med_price_by_floor_year = df.groupby(['year_cat', 'floor_cat'], as_index=False).agg({'Price':'median'}).\\\n",
    "                                            rename(columns={'Price':'MedPriceByFloorYear'})\n",
    "         \n",
    "        if y is not None:\n",
    "            df['Price'] = y.values\n",
    "            df = df.loc[((df['Square'] > self.Square_min) & (df['Square'] < self.Square_max))]\n",
    "            df[\"SquareMeterPrice\"] = df[\"Price\"] / df[\"Square\"]\n",
    "            self.SquareMeterPrice_by_DistrictId = df.groupby('DistrictId', as_index=False).agg({'SquareMeterPrice': 'median'}).\\\n",
    "                                            rename(columns={'SquareMeterPrice': 'AverageSquareMeterPrice'})\n",
    "\n",
    "        \n",
    "    def transform(self, X):\n",
    "        \n",
    "        # DistrictId\n",
    "        X['DistrictId_count'] = X['DistrictId'].map(self.DistrictId_counts)  # self.DistrictId_counts = {'id': value}\n",
    "        \n",
    "        X['new_district'] = 0\n",
    "        X.loc[X['DistrictId_count'].isna(), 'new_district'] = 1\n",
    "        \n",
    "        X['DistrictId_count'].fillna(5, inplace=True)\n",
    "        \n",
    "        # Binary features\n",
    "        X['Ecology_2'] = X['Ecology_2'].map(self.binary_to_numbers)  # self.binary_to_numbers = {'A': 0, 'B': 1}\n",
    "        X['Ecology_3'] = X['Ecology_3'].map(self.binary_to_numbers)\n",
    "        X['Shops_2'] = X['Shops_2'].map(self.binary_to_numbers)\n",
    "        \n",
    "        # More categorical features\n",
    "        X = self.floor_to_cat(X)  # + столбец floor_cat\n",
    "        X = self.year_to_cat(X)   # + столбец year_cat\n",
    "        \n",
    "        # Target encoding\n",
    "        if self.med_price_by_district is not None:\n",
    "            X = X.merge(self.med_price_by_district, on=['DistrictId', 'Rooms'], how='left')\n",
    "        if self.med_price_by_floor_year is not None:\n",
    "            X = X.merge(self.med_price_by_floor_year, on=['year_cat', 'floor_cat'], how='left')\n",
    "        \n",
    "        X = X.merge(self.SquareMeterPrice_by_DistrictId, on=[\"DistrictId\"], how='left')\n",
    "        X['AverageSquareMeterPrice'].fillna(X['AverageSquareMeterPrice'].median(), inplace=True)\n",
    "        \n",
    "        return X\n",
    "    \n",
    "    @staticmethod\n",
    "    def floor_to_cat(X):\n",
    "        \n",
    "        X['floor_cat'] = np.nan\n",
    "        \n",
    "        X.loc[X['Floor'] < 3, 'floor_cat'] = 1  \n",
    "        X.loc[(X['Floor'] >= 3) & (X['Floor'] <= 5), 'floor_cat'] = 2\n",
    "        X.loc[(X['Floor'] > 5) & (X['Floor'] <= 9), 'floor_cat'] = 3\n",
    "        X.loc[(X['Floor'] > 9) & (X['Floor'] <= 15), 'floor_cat'] = 4\n",
    "        X.loc[X['Floor'] > 15, 'floor_cat'] = 5\n",
    "            \n",
    "        return X\n",
    "     \n",
    "    @staticmethod\n",
    "    def year_to_cat(X):\n",
    "        \n",
    "        X['year_cat'] = np.nan\n",
    "        \n",
    "        X.loc[X['HouseYear'] < 1941, 'year_cat'] = 1\n",
    "        X.loc[(X['HouseYear'] >= 1941) & (X['HouseYear'] <= 1945), 'year_cat'] = 2\n",
    "        X.loc[(X['HouseYear'] > 1945) & (X['HouseYear'] <= 1980), 'year_cat'] = 3\n",
    "        X.loc[(X['HouseYear'] > 1980) & (X['HouseYear'] <= 2000), 'year_cat'] = 4\n",
    "        X.loc[(X['HouseYear'] > 2000) & (X['HouseYear'] <= 2010), 'year_cat'] = 5\n",
    "        X.loc[(X['HouseYear'] > 2010), 'year_cat'] = 6\n",
    "            \n",
    "        return X\n",
    "            \n",
    "    "
   ]
  },
  {
   "cell_type": "code",
   "execution_count": 19,
   "metadata": {},
   "outputs": [],
   "source": [
    "features = FeatureGenetator()\n",
    "\n",
    "features.fit(X, y)\n",
    "\n",
    "X = features.transform(X)\n",
    "X_final = features.transform(X_final)\n",
    "\n",
    "X['squ_room'] = (X['Square'] / X['Rooms']).astype('float')\n",
    "X_final['squ_room'] = (X_final['Square'] / X_final['Rooms']).astype('float')"
   ]
  },
  {
   "cell_type": "code",
   "execution_count": 20,
   "metadata": {},
   "outputs": [],
   "source": [
    "remain_features = ['Rooms', 'Square', 'LifeSquare', 'KitchenSquare', 'Floor', 'Ecology_1', 'Social_1', 'Shops_1',\n",
    "                  'Rooms_outlier', 'HouseFloor_outlier', 'HouseYear_outlier', 'LifeSquare_nan',\n",
    "                   'HouseFloor', 'HouseYear','squ_room', 'DistrictId_count', 'new_district', 'Ecology_2', 'Ecology_3', 'Shops_2',\n",
    "                  'MedPriceByDistrict','AverageSquareMeterPrice','MedPriceByFloorYear']\n",
    "\n",
    "X = X[remain_features]\n",
    "X_final = X_final[remain_features]"
   ]
  },
  {
   "cell_type": "markdown",
   "metadata": {},
   "source": [
    "# 4. Модель"
   ]
  },
  {
   "cell_type": "code",
   "execution_count": 21,
   "metadata": {},
   "outputs": [
    {
     "name": "stdout",
     "output_type": "stream",
     "text": [
      "R2: 0.739 +- 0.018\n"
     ]
    }
   ],
   "source": [
    "model = LGBMRegressor(max_bin=110,\n",
    "    min_samples_leaf=10,\n",
    "    n_estimators=4000,\n",
    "    learning_rate=0.01)\n",
    "\n",
    "cv_score = cross_val_score(model, X, y, \n",
    "                           scoring='r2', \n",
    "                           cv=KFold(n_splits=5, shuffle=True, random_state=42))\n",
    "# cv_score\n",
    "mean = cv_score.mean()\n",
    "std = cv_score.std()\n",
    "\n",
    "print('R2: {:.3f} +- {:.3f}'.format(mean, std))"
   ]
  },
  {
   "cell_type": "code",
   "execution_count": 22,
   "metadata": {},
   "outputs": [
    {
     "data": {
      "text/plain": [
       "LGBMRegressor(boosting_type='gbdt', class_weight=None, colsample_bytree=1.0,\n",
       "              importance_type='split', learning_rate=0.01, max_bin=110,\n",
       "              max_depth=-1, min_child_samples=20, min_child_weight=0.001,\n",
       "              min_samples_leaf=10, min_split_gain=0.0, n_estimators=4000,\n",
       "              n_jobs=-1, num_leaves=31, objective=None, random_state=None,\n",
       "              reg_alpha=0.0, reg_lambda=0.0, silent=True, subsample=1.0,\n",
       "              subsample_for_bin=200000, subsample_freq=0)"
      ]
     },
     "execution_count": 22,
     "metadata": {},
     "output_type": "execute_result"
    }
   ],
   "source": [
    "# Обучаю модель на всем трейне\n",
    "model.fit(X, y)"
   ]
  },
  {
   "cell_type": "code",
   "execution_count": 23,
   "metadata": {},
   "outputs": [
    {
     "data": {
      "image/png": "[encoded data removed]",
      "text/plain": [
       "<Figure size 1440x432 with 1 Axes>"
      ]
     },
     "metadata": {
      "needs_background": "light"
     },
     "output_type": "display_data"
    }
   ],
   "source": [
    "def plot_feature_importances(importances, X):\n",
    "    \n",
    "    indices = np.argsort(importances)[::-1]\n",
    "\n",
    "    plt.figure(figsize = (20, 6))\n",
    "    plt.title(\"Feature importances\", fontsize=16)\n",
    "    plt.bar(range(X.shape[1]), importances[indices] / importances.sum(),\n",
    "           color=\"darkblue\", align=\"center\")\n",
    "    plt.xticks(range(X.shape[1]), X.columns[indices], rotation = 90, fontsize=14)\n",
    "    plt.xlim([-1, X.shape[1]])\n",
    "\n",
    "    plt.tight_layout()\n",
    "    # plt.savefig('fe.jpg')\n",
    "    plt.show()\n",
    "    \n",
    "plot_feature_importances(importances = model.feature_importances_, X=X)"
   ]
  },
  {
   "cell_type": "code",
   "execution_count": 24,
   "metadata": {},
   "outputs": [
    {
     "data": {
      "text/html": [
       "<div>\n",
       "<style scoped>\n",
       "    .dataframe tbody tr th:only-of-type {\n",
       "        vertical-align: middle;\n",
       "    }\n",
       "\n",
       "    .dataframe tbody tr th {\n",
       "        vertical-align: top;\n",
       "    }\n",
       "\n",
       "    .dataframe thead th {\n",
       "        text-align: right;\n",
       "    }\n",
       "</style>\n",
       "<table border=\"1\" class=\"dataframe\">\n",
       "  <thead>\n",
       "    <tr style=\"text-align: right;\">\n",
       "      <th></th>\n",
       "      <th>Id</th>\n",
       "      <th>Price</th>\n",
       "    </tr>\n",
       "  </thead>\n",
       "  <tbody>\n",
       "    <tr>\n",
       "      <th>0</th>\n",
       "      <td>725</td>\n",
       "      <td>150082.978750</td>\n",
       "    </tr>\n",
       "    <tr>\n",
       "      <th>1</th>\n",
       "      <td>15856</td>\n",
       "      <td>239370.483700</td>\n",
       "    </tr>\n",
       "    <tr>\n",
       "      <th>2</th>\n",
       "      <td>5480</td>\n",
       "      <td>184120.949036</td>\n",
       "    </tr>\n",
       "    <tr>\n",
       "      <th>3</th>\n",
       "      <td>15664</td>\n",
       "      <td>328299.381176</td>\n",
       "    </tr>\n",
       "    <tr>\n",
       "      <th>4</th>\n",
       "      <td>14275</td>\n",
       "      <td>150218.150238</td>\n",
       "    </tr>\n",
       "  </tbody>\n",
       "</table>\n",
       "</div>"
      ],
      "text/plain": [
       "      Id          Price\n",
       "0    725  150082.978750\n",
       "1  15856  239370.483700\n",
       "2   5480  184120.949036\n",
       "3  15664  328299.381176\n",
       "4  14275  150218.150238"
      ]
     },
     "execution_count": 24,
     "metadata": {},
     "output_type": "execute_result"
    }
   ],
   "source": [
    "y_pred_final = model.predict(X_final)\n",
    "\n",
    "preds_final['Price'] = y_pred_final\n",
    "preds_final.to_csv('predictions.csv', index=False)\n",
    "\n",
    "preds_final.head()"
   ]
  },
  {
   "cell_type": "code",
   "execution_count": 25,
   "metadata": {},
   "outputs": [
    {
     "data": {
      "text/plain": [
       "(5000, 2)"
      ]
     },
     "execution_count": 25,
     "metadata": {},
     "output_type": "execute_result"
    }
   ],
   "source": [
    "preds_final.shape"
   ]
  }
 ],
 "metadata": {
  "kernelspec": {
   "display_name": "Python 3",
   "language": "python",
   "name": "python3"
  },
  "language_info": {
   "codemirror_mode": {
    "name": "ipython",
    "version": 3
   },
   "file_extension": ".py",
   "mimetype": "text/x-python",
   "name": "python",
   "nbconvert_exporter": "python",
   "pygments_lexer": "ipython3",
   "version": "3.6.6"
  }
 },
 "nbformat": 4,
 "nbformat_minor": 4
}
